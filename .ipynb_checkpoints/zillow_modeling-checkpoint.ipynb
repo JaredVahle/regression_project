{
 "cells": [
  {
   "cell_type": "code",
   "execution_count": 212,
   "id": "98055e0b",
   "metadata": {},
   "outputs": [],
   "source": [
    "import pandas as pd\n",
    "import numpy as np\n",
    "import wrangle\n",
    "import matplotlib.pyplot as plt\n",
    "\n",
    "# modeling methods\n",
    "from sklearn.metrics import mean_squared_error, r2_score\n",
    "from sklearn.linear_model import LinearRegression, LassoLars, TweedieRegressor\n",
    "from sklearn.preprocessing import PolynomialFeatures\n",
    "from sklearn.metrics import explained_variance_score\n",
    "from sklearn.linear_model import TweedieRegressor\n",
    "\n",
    "import acquire\n",
    "import prepare\n",
    "import wrangle\n",
    "\n",
    "import warnings\n",
    "warnings.filterwarnings(\"ignore\")"
   ]
  },
  {
   "cell_type": "code",
   "execution_count": 213,
   "id": "0bf72ec5",
   "metadata": {},
   "outputs": [],
   "source": [
    "train, validate, test, X_train, y_train, X_validate, y_validate, X_test, y_test, scaler, X_train_scaled, X_validate_scaled, X_test_scaled = wrangle.wrangle_zillow(target = \"tax_value\")"
   ]
  },
  {
   "cell_type": "code",
   "execution_count": 214,
   "id": "f0fd81f0",
   "metadata": {},
   "outputs": [],
   "source": [
    "cols = [\"sqft\",\"bathrooms\",\"bedrooms\",\"year_built\"]\n",
    "X_train_scaled = X_train_scaled[cols]\n",
    "X_validate_scaled = X_validate_scaled[cols]\n",
    "X_test_scaled = X_test_scaled[cols]"
   ]
  },
  {
   "cell_type": "code",
   "execution_count": 215,
   "id": "b293cc1f",
   "metadata": {},
   "outputs": [
    {
     "data": {
      "text/html": [
       "<div>\n",
       "<style scoped>\n",
       "    .dataframe tbody tr th:only-of-type {\n",
       "        vertical-align: middle;\n",
       "    }\n",
       "\n",
       "    .dataframe tbody tr th {\n",
       "        vertical-align: top;\n",
       "    }\n",
       "\n",
       "    .dataframe thead th {\n",
       "        text-align: right;\n",
       "    }\n",
       "</style>\n",
       "<table border=\"1\" class=\"dataframe\">\n",
       "  <thead>\n",
       "    <tr style=\"text-align: right;\">\n",
       "      <th></th>\n",
       "      <th>sqft</th>\n",
       "      <th>bathrooms</th>\n",
       "      <th>bedrooms</th>\n",
       "      <th>year_built</th>\n",
       "    </tr>\n",
       "  </thead>\n",
       "  <tbody>\n",
       "    <tr>\n",
       "      <th>19637</th>\n",
       "      <td>-0.065057</td>\n",
       "      <td>0.821149</td>\n",
       "      <td>0.922538</td>\n",
       "      <td>1.696089</td>\n",
       "    </tr>\n",
       "    <tr>\n",
       "      <th>28369</th>\n",
       "      <td>-0.865429</td>\n",
       "      <td>-0.287748</td>\n",
       "      <td>-1.093892</td>\n",
       "      <td>-3.026225</td>\n",
       "    </tr>\n",
       "    <tr>\n",
       "      <th>10647</th>\n",
       "      <td>-0.165403</td>\n",
       "      <td>0.266700</td>\n",
       "      <td>-0.085677</td>\n",
       "      <td>0.270485</td>\n",
       "    </tr>\n",
       "    <tr>\n",
       "      <th>26643</th>\n",
       "      <td>-0.960996</td>\n",
       "      <td>-0.287748</td>\n",
       "      <td>-1.093892</td>\n",
       "      <td>0.092284</td>\n",
       "    </tr>\n",
       "    <tr>\n",
       "      <th>25170</th>\n",
       "      <td>0.052012</td>\n",
       "      <td>0.821149</td>\n",
       "      <td>-1.093892</td>\n",
       "      <td>1.517889</td>\n",
       "    </tr>\n",
       "    <tr>\n",
       "      <th>...</th>\n",
       "      <td>...</td>\n",
       "      <td>...</td>\n",
       "      <td>...</td>\n",
       "      <td>...</td>\n",
       "    </tr>\n",
       "    <tr>\n",
       "      <th>19891</th>\n",
       "      <td>1.596610</td>\n",
       "      <td>0.821149</td>\n",
       "      <td>0.922538</td>\n",
       "      <td>1.696089</td>\n",
       "    </tr>\n",
       "    <tr>\n",
       "      <th>34780</th>\n",
       "      <td>-0.309947</td>\n",
       "      <td>-0.287748</td>\n",
       "      <td>0.922538</td>\n",
       "      <td>-0.264117</td>\n",
       "    </tr>\n",
       "    <tr>\n",
       "      <th>2501</th>\n",
       "      <td>0.575240</td>\n",
       "      <td>0.266700</td>\n",
       "      <td>1.930752</td>\n",
       "      <td>-0.130467</td>\n",
       "    </tr>\n",
       "    <tr>\n",
       "      <th>30791</th>\n",
       "      <td>-0.535724</td>\n",
       "      <td>-1.396644</td>\n",
       "      <td>-1.093892</td>\n",
       "      <td>-2.447074</td>\n",
       "    </tr>\n",
       "    <tr>\n",
       "      <th>36254</th>\n",
       "      <td>0.858357</td>\n",
       "      <td>0.821149</td>\n",
       "      <td>0.922538</td>\n",
       "      <td>2.097040</td>\n",
       "    </tr>\n",
       "  </tbody>\n",
       "</table>\n",
       "<p>20205 rows × 4 columns</p>\n",
       "</div>"
      ],
      "text/plain": [
       "           sqft  bathrooms  bedrooms  year_built\n",
       "19637 -0.065057   0.821149  0.922538    1.696089\n",
       "28369 -0.865429  -0.287748 -1.093892   -3.026225\n",
       "10647 -0.165403   0.266700 -0.085677    0.270485\n",
       "26643 -0.960996  -0.287748 -1.093892    0.092284\n",
       "25170  0.052012   0.821149 -1.093892    1.517889\n",
       "...         ...        ...       ...         ...\n",
       "19891  1.596610   0.821149  0.922538    1.696089\n",
       "34780 -0.309947  -0.287748  0.922538   -0.264117\n",
       "2501   0.575240   0.266700  1.930752   -0.130467\n",
       "30791 -0.535724  -1.396644 -1.093892   -2.447074\n",
       "36254  0.858357   0.821149  0.922538    2.097040\n",
       "\n",
       "[20205 rows x 4 columns]"
      ]
     },
     "execution_count": 215,
     "metadata": {},
     "output_type": "execute_result"
    }
   ],
   "source": [
    "X_train_scaled"
   ]
  },
  {
   "cell_type": "code",
   "execution_count": 219,
   "id": "57d657fd",
   "metadata": {},
   "outputs": [],
   "source": [
    "y_train = pd.DataFrame(y_train)\n",
    "y_validate = pd.DataFrame(y_validate)\n",
    "y_test = pd.DataFrame(y_test)"
   ]
  },
  {
   "cell_type": "code",
   "execution_count": 220,
   "id": "723e7ee1",
   "metadata": {},
   "outputs": [],
   "source": [
    "tax_value_pred_mean = y_train.tax_value.mean()\n",
    "y_train['tax_value_pred_mean'] = tax_value_pred_mean\n",
    "y_validate['tax_value_pred_mean'] = tax_value_pred_mean"
   ]
  },
  {
   "cell_type": "code",
   "execution_count": 221,
   "id": "aa0104ff",
   "metadata": {},
   "outputs": [],
   "source": [
    "tax_value_pred_median = y_train.tax_value.median()\n",
    "y_train['tax_value_pred_median'] = tax_value_pred_median\n",
    "y_validate['tax_value_pred_median'] = tax_value_pred_median"
   ]
  },
  {
   "cell_type": "code",
   "execution_count": 222,
   "id": "82312a7c",
   "metadata": {},
   "outputs": [
    {
     "data": {
      "text/html": [
       "<div>\n",
       "<style scoped>\n",
       "    .dataframe tbody tr th:only-of-type {\n",
       "        vertical-align: middle;\n",
       "    }\n",
       "\n",
       "    .dataframe tbody tr th {\n",
       "        vertical-align: top;\n",
       "    }\n",
       "\n",
       "    .dataframe thead th {\n",
       "        text-align: right;\n",
       "    }\n",
       "</style>\n",
       "<table border=\"1\" class=\"dataframe\">\n",
       "  <thead>\n",
       "    <tr style=\"text-align: right;\">\n",
       "      <th></th>\n",
       "      <th>tax_value</th>\n",
       "      <th>tax_value_pred_mean</th>\n",
       "      <th>tax_value_pred_median</th>\n",
       "    </tr>\n",
       "  </thead>\n",
       "  <tbody>\n",
       "    <tr>\n",
       "      <th>19637</th>\n",
       "      <td>551322.0</td>\n",
       "      <td>450983.8829</td>\n",
       "      <td>357000.0</td>\n",
       "    </tr>\n",
       "    <tr>\n",
       "      <th>28369</th>\n",
       "      <td>138000.0</td>\n",
       "      <td>450983.8829</td>\n",
       "      <td>357000.0</td>\n",
       "    </tr>\n",
       "    <tr>\n",
       "      <th>10647</th>\n",
       "      <td>441532.0</td>\n",
       "      <td>450983.8829</td>\n",
       "      <td>357000.0</td>\n",
       "    </tr>\n",
       "    <tr>\n",
       "      <th>26643</th>\n",
       "      <td>284000.0</td>\n",
       "      <td>450983.8829</td>\n",
       "      <td>357000.0</td>\n",
       "    </tr>\n",
       "    <tr>\n",
       "      <th>25170</th>\n",
       "      <td>1352103.0</td>\n",
       "      <td>450983.8829</td>\n",
       "      <td>357000.0</td>\n",
       "    </tr>\n",
       "    <tr>\n",
       "      <th>...</th>\n",
       "      <td>...</td>\n",
       "      <td>...</td>\n",
       "      <td>...</td>\n",
       "    </tr>\n",
       "    <tr>\n",
       "      <th>19891</th>\n",
       "      <td>316871.0</td>\n",
       "      <td>450983.8829</td>\n",
       "      <td>357000.0</td>\n",
       "    </tr>\n",
       "    <tr>\n",
       "      <th>34780</th>\n",
       "      <td>72643.0</td>\n",
       "      <td>450983.8829</td>\n",
       "      <td>357000.0</td>\n",
       "    </tr>\n",
       "    <tr>\n",
       "      <th>2501</th>\n",
       "      <td>725975.0</td>\n",
       "      <td>450983.8829</td>\n",
       "      <td>357000.0</td>\n",
       "    </tr>\n",
       "    <tr>\n",
       "      <th>30791</th>\n",
       "      <td>300252.0</td>\n",
       "      <td>450983.8829</td>\n",
       "      <td>357000.0</td>\n",
       "    </tr>\n",
       "    <tr>\n",
       "      <th>36254</th>\n",
       "      <td>1010867.0</td>\n",
       "      <td>450983.8829</td>\n",
       "      <td>357000.0</td>\n",
       "    </tr>\n",
       "  </tbody>\n",
       "</table>\n",
       "<p>20205 rows × 3 columns</p>\n",
       "</div>"
      ],
      "text/plain": [
       "       tax_value  tax_value_pred_mean  tax_value_pred_median\n",
       "19637   551322.0          450983.8829               357000.0\n",
       "28369   138000.0          450983.8829               357000.0\n",
       "10647   441532.0          450983.8829               357000.0\n",
       "26643   284000.0          450983.8829               357000.0\n",
       "25170  1352103.0          450983.8829               357000.0\n",
       "...          ...                  ...                    ...\n",
       "19891   316871.0          450983.8829               357000.0\n",
       "34780    72643.0          450983.8829               357000.0\n",
       "2501    725975.0          450983.8829               357000.0\n",
       "30791   300252.0          450983.8829               357000.0\n",
       "36254  1010867.0          450983.8829               357000.0\n",
       "\n",
       "[20205 rows x 3 columns]"
      ]
     },
     "execution_count": 222,
     "metadata": {},
     "output_type": "execute_result"
    }
   ],
   "source": [
    "y_train"
   ]
  },
  {
   "cell_type": "code",
   "execution_count": 223,
   "id": "c674de85",
   "metadata": {},
   "outputs": [],
   "source": [
    "rmse_train = mean_squared_error(y_train.tax_value, y_train.tax_value_pred_mean) ** .5\n",
    "rmse_validate = mean_squared_error(y_validate.tax_value, y_validate.tax_value_pred_mean) ** (1/2)"
   ]
  },
  {
   "cell_type": "code",
   "execution_count": 224,
   "id": "61d8d934",
   "metadata": {},
   "outputs": [
    {
     "name": "stdout",
     "output_type": "stream",
     "text": [
      "RMSE using Mean\n",
      "Train/In-Sample:  372946.47 \n",
      "Validate/Out-of-Sample:  369969.14\n",
      "RMSE using Median\n",
      "Train/In-Sample:  384606.35 \n",
      "Validate/Out-of-Sample:  380311.79\n"
     ]
    }
   ],
   "source": [
    "print(\"RMSE using Mean\\nTrain/In-Sample: \", round(rmse_train, 2), \n",
    "      \"\\nValidate/Out-of-Sample: \", round(rmse_validate, 2))\n",
    "\n",
    "# 4. RMSE of tax_value_pred_median\n",
    "rmse_train = mean_squared_error(y_train.tax_value, y_train.tax_value_pred_median) ** .5\n",
    "rmse_validate = mean_squared_error(y_validate.tax_value, y_validate.tax_value_pred_median) ** .5\n",
    "print(\"RMSE using Median\\nTrain/In-Sample: \", round(rmse_train, 2), \n",
    "      \"\\nValidate/Out-of-Sample: \", round(rmse_validate, 2))"
   ]
  },
  {
   "cell_type": "code",
   "execution_count": 225,
   "id": "caf29840",
   "metadata": {},
   "outputs": [],
   "source": [
    "def make_metric_df(y, y_pred, model_name, metric_df):\n",
    "    if metric_df.size ==0:\n",
    "        metric_df = pd.DataFrame(data=[\n",
    "            {\n",
    "                'model': model_name, \n",
    "                'RMSE_validate': mean_squared_error(\n",
    "                    y,\n",
    "                    y_pred) ** .5,\n",
    "                'r^2_validate': explained_variance_score(\n",
    "                    y,\n",
    "                    y_pred)\n",
    "            }])\n",
    "        return metric_df\n",
    "    else:\n",
    "        return metric_df.append(\n",
    "            {\n",
    "                'model': model_name, \n",
    "                'RMSE_validate': mean_squared_error(\n",
    "                    y,\n",
    "                    y_pred) ** .5,\n",
    "                'r^2_validate': explained_variance_score(\n",
    "                    y,\n",
    "                    y_pred)\n",
    "            }, ignore_index=True)"
   ]
  },
  {
   "cell_type": "code",
   "execution_count": 226,
   "id": "8a3d1860",
   "metadata": {},
   "outputs": [],
   "source": [
    "metric_df = pd.DataFrame()\n",
    "metric_df = make_metric_df(y_train.tax_value,\n",
    "                           y_train.tax_value_pred_median,\n",
    "                           'median_baseline',\n",
    "                          metric_df)"
   ]
  },
  {
   "cell_type": "code",
   "execution_count": 227,
   "id": "fddffdb9",
   "metadata": {},
   "outputs": [],
   "source": [
    "metric_df = make_metric_df(y_train.tax_value,\n",
    "                           y_train.tax_value_pred_mean,\n",
    "                           'mean_baseline',\n",
    "                          metric_df)"
   ]
  },
  {
   "cell_type": "code",
   "execution_count": 228,
   "id": "fbd3e30a",
   "metadata": {},
   "outputs": [
    {
     "data": {
      "text/html": [
       "<div>\n",
       "<style scoped>\n",
       "    .dataframe tbody tr th:only-of-type {\n",
       "        vertical-align: middle;\n",
       "    }\n",
       "\n",
       "    .dataframe tbody tr th {\n",
       "        vertical-align: top;\n",
       "    }\n",
       "\n",
       "    .dataframe thead th {\n",
       "        text-align: right;\n",
       "    }\n",
       "</style>\n",
       "<table border=\"1\" class=\"dataframe\">\n",
       "  <thead>\n",
       "    <tr style=\"text-align: right;\">\n",
       "      <th></th>\n",
       "      <th>model</th>\n",
       "      <th>RMSE_validate</th>\n",
       "      <th>r^2_validate</th>\n",
       "    </tr>\n",
       "  </thead>\n",
       "  <tbody>\n",
       "    <tr>\n",
       "      <th>0</th>\n",
       "      <td>median_baseline</td>\n",
       "      <td>384606.346892</td>\n",
       "      <td>0.0</td>\n",
       "    </tr>\n",
       "    <tr>\n",
       "      <th>1</th>\n",
       "      <td>mean_baseline</td>\n",
       "      <td>372946.473136</td>\n",
       "      <td>0.0</td>\n",
       "    </tr>\n",
       "  </tbody>\n",
       "</table>\n",
       "</div>"
      ],
      "text/plain": [
       "             model  RMSE_validate  r^2_validate\n",
       "0  median_baseline  384606.346892           0.0\n",
       "1    mean_baseline  372946.473136           0.0"
      ]
     },
     "execution_count": 228,
     "metadata": {},
     "output_type": "execute_result"
    }
   ],
   "source": [
    "metric_df"
   ]
  },
  {
   "cell_type": "code",
   "execution_count": 229,
   "id": "1b8f83eb",
   "metadata": {},
   "outputs": [],
   "source": [
    "lm = LinearRegression(normalize=True)"
   ]
  },
  {
   "cell_type": "code",
   "execution_count": 230,
   "id": "28a9b5a2",
   "metadata": {},
   "outputs": [
    {
     "data": {
      "text/plain": [
       "LinearRegression(normalize=True)"
      ]
     },
     "execution_count": 230,
     "metadata": {},
     "output_type": "execute_result"
    }
   ],
   "source": [
    "lm.fit(X_train_scaled, y_train.tax_value)"
   ]
  },
  {
   "cell_type": "code",
   "execution_count": 231,
   "id": "d52448fb",
   "metadata": {},
   "outputs": [],
   "source": [
    "y_train['tax_value_pred_lm'] = lm.predict(X_train_scaled)"
   ]
  },
  {
   "cell_type": "code",
   "execution_count": 232,
   "id": "d99ddeeb",
   "metadata": {},
   "outputs": [
    {
     "data": {
      "text/html": [
       "<div>\n",
       "<style scoped>\n",
       "    .dataframe tbody tr th:only-of-type {\n",
       "        vertical-align: middle;\n",
       "    }\n",
       "\n",
       "    .dataframe tbody tr th {\n",
       "        vertical-align: top;\n",
       "    }\n",
       "\n",
       "    .dataframe thead th {\n",
       "        text-align: right;\n",
       "    }\n",
       "</style>\n",
       "<table border=\"1\" class=\"dataframe\">\n",
       "  <thead>\n",
       "    <tr style=\"text-align: right;\">\n",
       "      <th></th>\n",
       "      <th>tax_value</th>\n",
       "      <th>tax_value_pred_mean</th>\n",
       "      <th>tax_value_pred_median</th>\n",
       "    </tr>\n",
       "  </thead>\n",
       "  <tbody>\n",
       "    <tr>\n",
       "      <th>21930</th>\n",
       "      <td>543000.0</td>\n",
       "      <td>450983.8829</td>\n",
       "      <td>357000.0</td>\n",
       "    </tr>\n",
       "    <tr>\n",
       "      <th>20472</th>\n",
       "      <td>252215.0</td>\n",
       "      <td>450983.8829</td>\n",
       "      <td>357000.0</td>\n",
       "    </tr>\n",
       "    <tr>\n",
       "      <th>33133</th>\n",
       "      <td>84081.0</td>\n",
       "      <td>450983.8829</td>\n",
       "      <td>357000.0</td>\n",
       "    </tr>\n",
       "    <tr>\n",
       "      <th>11204</th>\n",
       "      <td>192982.0</td>\n",
       "      <td>450983.8829</td>\n",
       "      <td>357000.0</td>\n",
       "    </tr>\n",
       "    <tr>\n",
       "      <th>19676</th>\n",
       "      <td>271967.0</td>\n",
       "      <td>450983.8829</td>\n",
       "      <td>357000.0</td>\n",
       "    </tr>\n",
       "    <tr>\n",
       "      <th>...</th>\n",
       "      <td>...</td>\n",
       "      <td>...</td>\n",
       "      <td>...</td>\n",
       "    </tr>\n",
       "    <tr>\n",
       "      <th>36673</th>\n",
       "      <td>287000.0</td>\n",
       "      <td>450983.8829</td>\n",
       "      <td>357000.0</td>\n",
       "    </tr>\n",
       "    <tr>\n",
       "      <th>1908</th>\n",
       "      <td>923000.0</td>\n",
       "      <td>450983.8829</td>\n",
       "      <td>357000.0</td>\n",
       "    </tr>\n",
       "    <tr>\n",
       "      <th>1535</th>\n",
       "      <td>205013.0</td>\n",
       "      <td>450983.8829</td>\n",
       "      <td>357000.0</td>\n",
       "    </tr>\n",
       "    <tr>\n",
       "      <th>31324</th>\n",
       "      <td>727000.0</td>\n",
       "      <td>450983.8829</td>\n",
       "      <td>357000.0</td>\n",
       "    </tr>\n",
       "    <tr>\n",
       "      <th>27524</th>\n",
       "      <td>783230.0</td>\n",
       "      <td>450983.8829</td>\n",
       "      <td>357000.0</td>\n",
       "    </tr>\n",
       "  </tbody>\n",
       "</table>\n",
       "<p>6736 rows × 3 columns</p>\n",
       "</div>"
      ],
      "text/plain": [
       "       tax_value  tax_value_pred_mean  tax_value_pred_median\n",
       "21930   543000.0          450983.8829               357000.0\n",
       "20472   252215.0          450983.8829               357000.0\n",
       "33133    84081.0          450983.8829               357000.0\n",
       "11204   192982.0          450983.8829               357000.0\n",
       "19676   271967.0          450983.8829               357000.0\n",
       "...          ...                  ...                    ...\n",
       "36673   287000.0          450983.8829               357000.0\n",
       "1908    923000.0          450983.8829               357000.0\n",
       "1535    205013.0          450983.8829               357000.0\n",
       "31324   727000.0          450983.8829               357000.0\n",
       "27524   783230.0          450983.8829               357000.0\n",
       "\n",
       "[6736 rows x 3 columns]"
      ]
     },
     "execution_count": 232,
     "metadata": {},
     "output_type": "execute_result"
    }
   ],
   "source": [
    "y_validate"
   ]
  },
  {
   "cell_type": "code",
   "execution_count": 233,
   "id": "751e60d1",
   "metadata": {},
   "outputs": [
    {
     "name": "stdout",
     "output_type": "stream",
     "text": [
      "RMSE for OLS using LinearRegression\n",
      "Training/In-Sample:  293749.7782815386 \n",
      "Validation/Out-of-Sample:  289873.6875660112\n",
      "R^2 value for LinearRegression is 0.386\n"
     ]
    }
   ],
   "source": [
    "rmse_train = mean_squared_error(y_train.tax_value, y_train.tax_value_pred_lm) ** (1/2)\n",
    "\n",
    "# predict validate\n",
    "y_validate['tax_value_pred_lm'] = lm.predict(X_validate_scaled)\n",
    "\n",
    "# evaluate: rmse\n",
    "rmse_validate = mean_squared_error(y_validate.tax_value, y_validate.tax_value_pred_lm) ** (1/2)\n",
    "\n",
    "print(\"RMSE for OLS using LinearRegression\\nTraining/In-Sample: \", rmse_train, \n",
    "      \"\\nValidation/Out-of-Sample: \", rmse_validate)\n",
    "r2_score_lm = r2_score(y_validate.tax_value, y_validate.tax_value_pred_lm)\n",
    "print(f\"R^2 value for LinearRegression is {round(r2_score_lm,4)}\")"
   ]
  },
  {
   "cell_type": "code",
   "execution_count": 234,
   "id": "6fef2c76",
   "metadata": {},
   "outputs": [],
   "source": [
    "metric_df = make_metric_df(y_train.tax_value, y_train.tax_value_pred_lm, \"lm_model\", metric_df)"
   ]
  },
  {
   "cell_type": "code",
   "execution_count": 235,
   "id": "63c41b00",
   "metadata": {},
   "outputs": [
    {
     "data": {
      "text/html": [
       "<div>\n",
       "<style scoped>\n",
       "    .dataframe tbody tr th:only-of-type {\n",
       "        vertical-align: middle;\n",
       "    }\n",
       "\n",
       "    .dataframe tbody tr th {\n",
       "        vertical-align: top;\n",
       "    }\n",
       "\n",
       "    .dataframe thead th {\n",
       "        text-align: right;\n",
       "    }\n",
       "</style>\n",
       "<table border=\"1\" class=\"dataframe\">\n",
       "  <thead>\n",
       "    <tr style=\"text-align: right;\">\n",
       "      <th></th>\n",
       "      <th>model</th>\n",
       "      <th>RMSE_validate</th>\n",
       "      <th>r^2_validate</th>\n",
       "    </tr>\n",
       "  </thead>\n",
       "  <tbody>\n",
       "    <tr>\n",
       "      <th>0</th>\n",
       "      <td>median_baseline</td>\n",
       "      <td>384606.346892</td>\n",
       "      <td>0.000000</td>\n",
       "    </tr>\n",
       "    <tr>\n",
       "      <th>1</th>\n",
       "      <td>mean_baseline</td>\n",
       "      <td>372946.473136</td>\n",
       "      <td>0.000000</td>\n",
       "    </tr>\n",
       "    <tr>\n",
       "      <th>2</th>\n",
       "      <td>lm_model</td>\n",
       "      <td>293749.778282</td>\n",
       "      <td>0.379614</td>\n",
       "    </tr>\n",
       "  </tbody>\n",
       "</table>\n",
       "</div>"
      ],
      "text/plain": [
       "             model  RMSE_validate  r^2_validate\n",
       "0  median_baseline  384606.346892      0.000000\n",
       "1    mean_baseline  372946.473136      0.000000\n",
       "2         lm_model  293749.778282      0.379614"
      ]
     },
     "execution_count": 235,
     "metadata": {},
     "output_type": "execute_result"
    }
   ],
   "source": [
    "metric_df"
   ]
  },
  {
   "cell_type": "code",
   "execution_count": 236,
   "id": "8157caf9",
   "metadata": {},
   "outputs": [
    {
     "name": "stdout",
     "output_type": "stream",
     "text": [
      "RMSE for Lasso + Lars\n",
      "Training/In-Sample:  293750.12111328973 \n",
      "Validation/Out-of-Sample:  289881.15280912694\n",
      "R^2 value for Lasso + Lars is 0.3859\n"
     ]
    }
   ],
   "source": [
    "# create the model object\n",
    "lars = LassoLars(alpha=1)\n",
    "\n",
    "# fit the model to our training data. We must specify the column in y_train, \n",
    "# since we have converted it to a dataframe from a series!\n",
    "lars.fit(X_train_scaled, y_train.tax_value)\n",
    "\n",
    "# predict train\n",
    "y_train['tax_value_pred_lars'] = lars.predict(X_train_scaled)\n",
    "\n",
    "# evaluate: rmse\n",
    "rmse_train = mean_squared_error(y_train.tax_value, y_train.tax_value_pred_lars) ** (1/2)\n",
    "\n",
    "# predict validate\n",
    "y_validate['tax_value_pred_lars'] = lars.predict(X_validate_scaled)\n",
    "\n",
    "# evaluate: rmse\n",
    "rmse_validate = mean_squared_error(y_validate.tax_value, y_validate.tax_value_pred_lars) ** (1/2)\n",
    "\n",
    "print(\"RMSE for Lasso + Lars\\nTraining/In-Sample: \", rmse_train, \n",
    "      \"\\nValidation/Out-of-Sample: \", rmse_validate)\n",
    "r2_score_lars = r2_score(y_validate.tax_value, y_validate.tax_value_pred_lars)\n",
    "print(f\"R^2 value for Lasso + Lars is {round(r2_score_lars,4)}\")"
   ]
  },
  {
   "cell_type": "code",
   "execution_count": 237,
   "id": "a1b1bffe",
   "metadata": {},
   "outputs": [],
   "source": [
    "metric_df = make_metric_df(y_validate.tax_value,\n",
    "               y_validate.tax_value_pred_lars,\n",
    "               'lasso_alpha_1',\n",
    "               metric_df)"
   ]
  },
  {
   "cell_type": "code",
   "execution_count": 238,
   "id": "9703fbdc",
   "metadata": {},
   "outputs": [
    {
     "data": {
      "text/html": [
       "<div>\n",
       "<style scoped>\n",
       "    .dataframe tbody tr th:only-of-type {\n",
       "        vertical-align: middle;\n",
       "    }\n",
       "\n",
       "    .dataframe tbody tr th {\n",
       "        vertical-align: top;\n",
       "    }\n",
       "\n",
       "    .dataframe thead th {\n",
       "        text-align: right;\n",
       "    }\n",
       "</style>\n",
       "<table border=\"1\" class=\"dataframe\">\n",
       "  <thead>\n",
       "    <tr style=\"text-align: right;\">\n",
       "      <th></th>\n",
       "      <th>model</th>\n",
       "      <th>RMSE_validate</th>\n",
       "      <th>r^2_validate</th>\n",
       "    </tr>\n",
       "  </thead>\n",
       "  <tbody>\n",
       "    <tr>\n",
       "      <th>0</th>\n",
       "      <td>median_baseline</td>\n",
       "      <td>384606.346892</td>\n",
       "      <td>0.000000</td>\n",
       "    </tr>\n",
       "    <tr>\n",
       "      <th>1</th>\n",
       "      <td>mean_baseline</td>\n",
       "      <td>372946.473136</td>\n",
       "      <td>0.000000</td>\n",
       "    </tr>\n",
       "    <tr>\n",
       "      <th>2</th>\n",
       "      <td>lm_model</td>\n",
       "      <td>293749.778282</td>\n",
       "      <td>0.379614</td>\n",
       "    </tr>\n",
       "    <tr>\n",
       "      <th>3</th>\n",
       "      <td>lasso_alpha_1</td>\n",
       "      <td>289881.152809</td>\n",
       "      <td>0.386234</td>\n",
       "    </tr>\n",
       "  </tbody>\n",
       "</table>\n",
       "</div>"
      ],
      "text/plain": [
       "             model  RMSE_validate  r^2_validate\n",
       "0  median_baseline  384606.346892      0.000000\n",
       "1    mean_baseline  372946.473136      0.000000\n",
       "2         lm_model  293749.778282      0.379614\n",
       "3    lasso_alpha_1  289881.152809      0.386234"
      ]
     },
     "execution_count": 238,
     "metadata": {},
     "output_type": "execute_result"
    }
   ],
   "source": [
    "metric_df"
   ]
  },
  {
   "cell_type": "code",
   "execution_count": 239,
   "id": "ae3b2064",
   "metadata": {},
   "outputs": [
    {
     "name": "stdout",
     "output_type": "stream",
     "text": [
      "RMSE for GLM using Tweedie, power=1 & alpha=0\n",
      "Training/In-Sample:  321011.7788211258 \n",
      "Validation/Out-of-Sample:  321011.7788211258\n",
      "R^2 value for GLM using Tweedie is 0.3155\n"
     ]
    }
   ],
   "source": [
    "# create the model object\n",
    "glm = TweedieRegressor(power=1, alpha=0)\n",
    "\n",
    "\n",
    "# fit the model to our training data. We must specify the column in y_train, \n",
    "# since we have converted it to a dataframe from a series! \n",
    "glm.fit(X_train_scaled, y_train.tax_value)\n",
    "\n",
    "# predict train\n",
    "y_train['tax_value_pred_glm'] = glm.predict(X_train_scaled)\n",
    "\n",
    "# evaluate: rmse\n",
    "rmse_train = mean_squared_error(y_train.tax_value, y_train.tax_value_pred_glm) ** (1/2)\n",
    "\n",
    "# predict validate\n",
    "y_validate['tax_value_pred_glm'] = glm.predict(X_validate_scaled)\n",
    "\n",
    "# evaluate: rmse\n",
    "rmse_validate = mean_squared_error(y_train.tax_value, y_train.tax_value_pred_glm) ** (1/2)\n",
    "\n",
    "print(\"RMSE for GLM using Tweedie, power=1 & alpha=0\\nTraining/In-Sample: \", rmse_train, \n",
    "      \"\\nValidation/Out-of-Sample: \", rmse_validate)\n",
    "r2_score_glm = r2_score(y_validate.tax_value, y_validate.tax_value_pred_glm)\n",
    "print(f\"R^2 value for GLM using Tweedie is {round(r2_score_glm,4)}\")"
   ]
  },
  {
   "cell_type": "code",
   "execution_count": 240,
   "id": "a6b0d3e6",
   "metadata": {},
   "outputs": [],
   "source": [
    "metric_df = make_metric_df(y_validate.tax_value,\n",
    "               y_validate.tax_value_pred_glm,\n",
    "               'glm_poisson',\n",
    "               metric_df)"
   ]
  },
  {
   "cell_type": "code",
   "execution_count": 241,
   "id": "aa239301",
   "metadata": {},
   "outputs": [
    {
     "data": {
      "text/html": [
       "<div>\n",
       "<style scoped>\n",
       "    .dataframe tbody tr th:only-of-type {\n",
       "        vertical-align: middle;\n",
       "    }\n",
       "\n",
       "    .dataframe tbody tr th {\n",
       "        vertical-align: top;\n",
       "    }\n",
       "\n",
       "    .dataframe thead th {\n",
       "        text-align: right;\n",
       "    }\n",
       "</style>\n",
       "<table border=\"1\" class=\"dataframe\">\n",
       "  <thead>\n",
       "    <tr style=\"text-align: right;\">\n",
       "      <th></th>\n",
       "      <th>model</th>\n",
       "      <th>RMSE_validate</th>\n",
       "      <th>r^2_validate</th>\n",
       "    </tr>\n",
       "  </thead>\n",
       "  <tbody>\n",
       "    <tr>\n",
       "      <th>0</th>\n",
       "      <td>median_baseline</td>\n",
       "      <td>384606.346892</td>\n",
       "      <td>0.000000</td>\n",
       "    </tr>\n",
       "    <tr>\n",
       "      <th>1</th>\n",
       "      <td>mean_baseline</td>\n",
       "      <td>372946.473136</td>\n",
       "      <td>0.000000</td>\n",
       "    </tr>\n",
       "    <tr>\n",
       "      <th>2</th>\n",
       "      <td>lm_model</td>\n",
       "      <td>293749.778282</td>\n",
       "      <td>0.379614</td>\n",
       "    </tr>\n",
       "    <tr>\n",
       "      <th>3</th>\n",
       "      <td>lasso_alpha_1</td>\n",
       "      <td>289881.152809</td>\n",
       "      <td>0.386234</td>\n",
       "    </tr>\n",
       "    <tr>\n",
       "      <th>4</th>\n",
       "      <td>glm_poisson</td>\n",
       "      <td>306057.794919</td>\n",
       "      <td>0.315704</td>\n",
       "    </tr>\n",
       "  </tbody>\n",
       "</table>\n",
       "</div>"
      ],
      "text/plain": [
       "             model  RMSE_validate  r^2_validate\n",
       "0  median_baseline  384606.346892      0.000000\n",
       "1    mean_baseline  372946.473136      0.000000\n",
       "2         lm_model  293749.778282      0.379614\n",
       "3    lasso_alpha_1  289881.152809      0.386234\n",
       "4      glm_poisson  306057.794919      0.315704"
      ]
     },
     "execution_count": 241,
     "metadata": {},
     "output_type": "execute_result"
    }
   ],
   "source": [
    "metric_df"
   ]
  },
  {
   "cell_type": "code",
   "execution_count": 242,
   "id": "f5d94b7d",
   "metadata": {},
   "outputs": [
    {
     "data": {
      "text/html": [
       "<div>\n",
       "<style scoped>\n",
       "    .dataframe tbody tr th:only-of-type {\n",
       "        vertical-align: middle;\n",
       "    }\n",
       "\n",
       "    .dataframe tbody tr th {\n",
       "        vertical-align: top;\n",
       "    }\n",
       "\n",
       "    .dataframe thead th {\n",
       "        text-align: right;\n",
       "    }\n",
       "</style>\n",
       "<table border=\"1\" class=\"dataframe\">\n",
       "  <thead>\n",
       "    <tr style=\"text-align: right;\">\n",
       "      <th></th>\n",
       "      <th>model</th>\n",
       "      <th>RMSE_validate</th>\n",
       "      <th>r^2_validate</th>\n",
       "    </tr>\n",
       "  </thead>\n",
       "  <tbody>\n",
       "    <tr>\n",
       "      <th>0</th>\n",
       "      <td>median_baseline</td>\n",
       "      <td>384606.346892</td>\n",
       "      <td>0.000000</td>\n",
       "    </tr>\n",
       "    <tr>\n",
       "      <th>1</th>\n",
       "      <td>mean_baseline</td>\n",
       "      <td>372946.473136</td>\n",
       "      <td>0.000000</td>\n",
       "    </tr>\n",
       "    <tr>\n",
       "      <th>2</th>\n",
       "      <td>lm_model</td>\n",
       "      <td>293749.778282</td>\n",
       "      <td>0.379614</td>\n",
       "    </tr>\n",
       "    <tr>\n",
       "      <th>3</th>\n",
       "      <td>lasso_alpha_1</td>\n",
       "      <td>289881.152809</td>\n",
       "      <td>0.386234</td>\n",
       "    </tr>\n",
       "    <tr>\n",
       "      <th>4</th>\n",
       "      <td>glm_poisson</td>\n",
       "      <td>306057.794919</td>\n",
       "      <td>0.315704</td>\n",
       "    </tr>\n",
       "  </tbody>\n",
       "</table>\n",
       "</div>"
      ],
      "text/plain": [
       "             model  RMSE_validate  r^2_validate\n",
       "0  median_baseline  384606.346892      0.000000\n",
       "1    mean_baseline  372946.473136      0.000000\n",
       "2         lm_model  293749.778282      0.379614\n",
       "3    lasso_alpha_1  289881.152809      0.386234\n",
       "4      glm_poisson  306057.794919      0.315704"
      ]
     },
     "execution_count": 242,
     "metadata": {},
     "output_type": "execute_result"
    }
   ],
   "source": [
    "metric_df"
   ]
  },
  {
   "cell_type": "code",
   "execution_count": 243,
   "id": "3983349f",
   "metadata": {},
   "outputs": [
    {
     "name": "stdout",
     "output_type": "stream",
     "text": [
      "RMSE for OLS Model using Lasso\n",
      "Out-of-Sample Performance:  294683.58454974514\n",
      "R^2 value for Lasso is 0.3859\n"
     ]
    }
   ],
   "source": [
    "# predict on test\n",
    "y_test['tax_value_pred_lm2'] = lars.predict(X_test_scaled)\n",
    "\n",
    "# evaluate: rmse\n",
    "rmse_test = mean_squared_error(y_test.tax_value, y_test.tax_value_pred_lm2) ** (1/2)\n",
    "\n",
    "print(\"RMSE for OLS Model using Lasso\\nOut-of-Sample Performance: \", rmse_test)\n",
    "r2_score_lars = r2_score(y_validate.tax_value, y_validate.tax_value_pred_lars)\n",
    "print(f\"R^2 value for Lasso is {round(r2_score_lars,4)}\")"
   ]
  }
 ],
 "metadata": {
  "kernelspec": {
   "display_name": "Python 3",
   "language": "python",
   "name": "python3"
  },
  "language_info": {
   "codemirror_mode": {
    "name": "ipython",
    "version": 3
   },
   "file_extension": ".py",
   "mimetype": "text/x-python",
   "name": "python",
   "nbconvert_exporter": "python",
   "pygments_lexer": "ipython3",
   "version": "3.8.8"
  }
 },
 "nbformat": 4,
 "nbformat_minor": 5
}
